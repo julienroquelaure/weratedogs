{
 "cells": [
  {
   "cell_type": "markdown",
   "metadata": {},
   "source": [
    "## Act Report"
   ]
  },
  {
   "cell_type": "markdown",
   "metadata": {},
   "source": [
    "In this project, we analyzed a dataset built from 3 datasets about the Twitter account WeRateDogs."
   ]
  },
  {
   "cell_type": "markdown",
   "metadata": {},
   "source": [
    "The rating system of this account is not aimed at really ratings dogs, but at showing how fond people are of their dogs.\n",
    "\n",
    "So, we based our analysis on likes in order to see what kind of dog have people interacting."
   ]
  },
  {
   "cell_type": "markdown",
   "metadata": {},
   "source": [
    "We first look at the number of dog by breed to see what are the most popular on this Twitter account:"
   ]
  },
  {
   "cell_type": "markdown",
   "metadata": {},
   "source": [
    "![image](dog_popularity.png)"
   ]
  },
  {
   "cell_type": "markdown",
   "metadata": {},
   "source": [
    "This gave us an idea about which dog breeds are the most popular, at least among the enjoyers of the account. With little surprise, very well known dog breeds like Retrievers, Pembrokes and Chihuahuas are the mot well represented."
   ]
  },
  {
   "cell_type": "markdown",
   "metadata": {},
   "source": [
    "We also looked at what kind of picture generates the more likes:"
   ]
  },
  {
   "cell_type": "markdown",
   "metadata": {},
   "source": [
    "![image](dog_likes.png)"
   ]
  },
  {
   "cell_type": "markdown",
   "metadata": {},
   "source": [
    "Here, the breeds were quite different from the most popular ones. One may think that uncommon breeds generate more surprise and therefore more likes."
   ]
  },
  {
   "cell_type": "markdown",
   "metadata": {},
   "source": [
    "We also looked at the names of the dogs: the most popular are Charlie, Cooper and Lucy, with 10 occurences each. These are dog names also used as human names. So it may be a bias of people fond with sharing pictures of their dogs, but we may conclude that people are considering dogs are part of their family."
   ]
  },
  {
   "cell_type": "markdown",
   "metadata": {},
   "source": [
    "The main conclusion from this project is that people care a lot about their dogs. \n",
    "\n",
    "All the ratings are supposed to be good and yet people are eager to share pictures of their pet when there is no other incentive involved than praising each other's dogs."
   ]
  },
  {
   "cell_type": "code",
   "execution_count": null,
   "metadata": {},
   "outputs": [],
   "source": []
  }
 ],
 "metadata": {
  "kernelspec": {
   "display_name": "Python 3",
   "language": "python",
   "name": "python3"
  },
  "language_info": {
   "codemirror_mode": {
    "name": "ipython",
    "version": 3
   },
   "file_extension": ".py",
   "mimetype": "text/x-python",
   "name": "python",
   "nbconvert_exporter": "python",
   "pygments_lexer": "ipython3",
   "version": "3.8.8"
  }
 },
 "nbformat": 4,
 "nbformat_minor": 2
}
